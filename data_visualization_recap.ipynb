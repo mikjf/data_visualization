{
 "cells": [
  {
   "cell_type": "markdown",
   "id": "26768964-c44e-4174-94b7-774bbc9ac056",
   "metadata": {},
   "source": [
    "# Data visualization recap"
   ]
  },
  {
   "cell_type": "markdown",
   "id": "fb8890b0-8806-4157-981d-639b3c6c3f21",
   "metadata": {},
   "source": [
    "The objective of proper data visualization is to enable quantitative reasoning by simply looking at the visualization in question. How data is perceived is affected by how it is displayed."
   ]
  },
  {
   "cell_type": "markdown",
   "id": "bf91c861-8c9a-422f-b028-cca4f63adb7b",
   "metadata": {},
   "source": [
    "## 1. Import packages, import and load data"
   ]
  },
  {
   "cell_type": "code",
   "execution_count": 1,
   "id": "21bf82b8-3826-44fa-bc73-e7cda1859966",
   "metadata": {},
   "outputs": [],
   "source": [
    "import pandas as pd\n",
    "import numpy as np\n",
    "import matplotlib\n",
    "%matplotlib inline\n",
    "import matplotlib.pyplot as plt"
   ]
  },
  {
   "cell_type": "code",
   "execution_count": 4,
   "id": "77f3c6f4-a3f1-4cc9-b320-e49093682aae",
   "metadata": {},
   "outputs": [
    {
     "data": {
      "text/html": [
       "<div>\n",
       "<style scoped>\n",
       "    .dataframe tbody tr th:only-of-type {\n",
       "        vertical-align: middle;\n",
       "    }\n",
       "\n",
       "    .dataframe tbody tr th {\n",
       "        vertical-align: top;\n",
       "    }\n",
       "\n",
       "    .dataframe thead th {\n",
       "        text-align: right;\n",
       "    }\n",
       "</style>\n",
       "<table border=\"1\" class=\"dataframe\">\n",
       "  <thead>\n",
       "    <tr style=\"text-align: right;\">\n",
       "      <th></th>\n",
       "      <th>Date</th>\n",
       "      <th>D0</th>\n",
       "      <th>Value</th>\n",
       "    </tr>\n",
       "  </thead>\n",
       "  <tbody>\n",
       "    <tr>\n",
       "      <th>0</th>\n",
       "      <td>1988-01</td>\n",
       "      <td>1J</td>\n",
       "      <td>2.887</td>\n",
       "    </tr>\n",
       "    <tr>\n",
       "      <th>1</th>\n",
       "      <td>1988-01</td>\n",
       "      <td>2J</td>\n",
       "      <td>3.218</td>\n",
       "    </tr>\n",
       "    <tr>\n",
       "      <th>2</th>\n",
       "      <td>1988-01</td>\n",
       "      <td>3J</td>\n",
       "      <td>3.393</td>\n",
       "    </tr>\n",
       "    <tr>\n",
       "      <th>3</th>\n",
       "      <td>1988-01</td>\n",
       "      <td>4J</td>\n",
       "      <td>3.554</td>\n",
       "    </tr>\n",
       "    <tr>\n",
       "      <th>4</th>\n",
       "      <td>1988-01</td>\n",
       "      <td>5J</td>\n",
       "      <td>3.695</td>\n",
       "    </tr>\n",
       "  </tbody>\n",
       "</table>\n",
       "</div>"
      ],
      "text/plain": [
       "      Date  D0  Value\n",
       "0  1988-01  1J  2.887\n",
       "1  1988-01  2J  3.218\n",
       "2  1988-01  3J  3.393\n",
       "3  1988-01  4J  3.554\n",
       "4  1988-01  5J  3.695"
      ]
     },
     "execution_count": 4,
     "metadata": {},
     "output_type": "execute_result"
    }
   ],
   "source": [
    "# SNB money-market rate data\n",
    "\n",
    "df_raw = pd.read_csv('data/snb-data-rendoblim-en-all-20170502_1430.csv')\n",
    "df_raw.head()"
   ]
  },
  {
   "cell_type": "code",
   "execution_count": 8,
   "id": "6e50840d-c34a-40b1-b0f6-a0021612ce6a",
   "metadata": {},
   "outputs": [
    {
     "name": "stdout",
     "output_type": "stream",
     "text": [
      "<class 'pandas.core.frame.DataFrame'>\n",
      "RangeIndex: 4224 entries, 0 to 4223\n",
      "Data columns (total 3 columns):\n",
      " #   Column  Non-Null Count  Dtype  \n",
      "---  ------  --------------  -----  \n",
      " 0   Date    4224 non-null   object \n",
      " 1   D0      4224 non-null   object \n",
      " 2   Value   4105 non-null   float64\n",
      "dtypes: float64(1), object(2)\n",
      "memory usage: 99.1+ KB\n"
     ]
    }
   ],
   "source": [
    "# info\n",
    "df_raw.info()"
   ]
  },
  {
   "cell_type": "markdown",
   "id": "e50774b8-1f59-4ec6-a408-55a0e8e1b44a",
   "metadata": {},
   "source": [
    "## 2. Initial EDA"
   ]
  },
  {
   "cell_type": "code",
   "execution_count": 9,
   "id": "40dd13ed-fe88-4df4-8e24-1a4d6a109af0",
   "metadata": {},
   "outputs": [
    {
     "data": {
      "text/plain": [
       "(4224,\n",
       " 352,\n",
       " 12,\n",
       " array(['1J', '2J', '3J', '4J', '5J', '6J', '7J', '8J', '9J', '10J', '20J',\n",
       "        '30J'], dtype=object))"
      ]
     },
     "execution_count": 9,
     "metadata": {},
     "output_type": "execute_result"
    }
   ],
   "source": [
    "# each row -> one observation (value, date, bond duration for bond D0)\n",
    "len(df_raw), len(pd.unique(df_raw['Date'])), len(pd.unique(df_raw['D0'])), pd.unique(df_raw['D0'])"
   ]
  },
  {
   "cell_type": "code",
   "execution_count": 10,
   "id": "8da76abf-2e6a-4d17-a7a8-bb269c03d266",
   "metadata": {},
   "outputs": [
    {
     "data": {
      "text/html": [
       "<div>\n",
       "<style scoped>\n",
       "    .dataframe tbody tr th:only-of-type {\n",
       "        vertical-align: middle;\n",
       "    }\n",
       "\n",
       "    .dataframe tbody tr th {\n",
       "        vertical-align: top;\n",
       "    }\n",
       "\n",
       "    .dataframe thead th {\n",
       "        text-align: right;\n",
       "    }\n",
       "</style>\n",
       "<table border=\"1\" class=\"dataframe\">\n",
       "  <thead>\n",
       "    <tr style=\"text-align: right;\">\n",
       "      <th>D0</th>\n",
       "      <th>10J</th>\n",
       "      <th>1J</th>\n",
       "      <th>20J</th>\n",
       "      <th>2J</th>\n",
       "      <th>30J</th>\n",
       "      <th>3J</th>\n",
       "      <th>4J</th>\n",
       "      <th>5J</th>\n",
       "      <th>6J</th>\n",
       "      <th>7J</th>\n",
       "      <th>8J</th>\n",
       "      <th>9J</th>\n",
       "    </tr>\n",
       "    <tr>\n",
       "      <th>Date</th>\n",
       "      <th></th>\n",
       "      <th></th>\n",
       "      <th></th>\n",
       "      <th></th>\n",
       "      <th></th>\n",
       "      <th></th>\n",
       "      <th></th>\n",
       "      <th></th>\n",
       "      <th></th>\n",
       "      <th></th>\n",
       "      <th></th>\n",
       "      <th></th>\n",
       "    </tr>\n",
       "  </thead>\n",
       "  <tbody>\n",
       "    <tr>\n",
       "      <th>1988-01</th>\n",
       "      <td>4.092</td>\n",
       "      <td>2.887</td>\n",
       "      <td>4.326</td>\n",
       "      <td>3.218</td>\n",
       "      <td>NaN</td>\n",
       "      <td>3.393</td>\n",
       "      <td>3.554</td>\n",
       "      <td>3.695</td>\n",
       "      <td>3.810</td>\n",
       "      <td>3.904</td>\n",
       "      <td>3.980</td>\n",
       "      <td>4.041</td>\n",
       "    </tr>\n",
       "    <tr>\n",
       "      <th>1988-02</th>\n",
       "      <td>4.098</td>\n",
       "      <td>2.638</td>\n",
       "      <td>4.332</td>\n",
       "      <td>2.990</td>\n",
       "      <td>NaN</td>\n",
       "      <td>3.271</td>\n",
       "      <td>3.498</td>\n",
       "      <td>3.672</td>\n",
       "      <td>3.804</td>\n",
       "      <td>3.905</td>\n",
       "      <td>3.984</td>\n",
       "      <td>4.047</td>\n",
       "    </tr>\n",
       "    <tr>\n",
       "      <th>1988-03</th>\n",
       "      <td>3.998</td>\n",
       "      <td>2.641</td>\n",
       "      <td>4.255</td>\n",
       "      <td>3.263</td>\n",
       "      <td>NaN</td>\n",
       "      <td>3.573</td>\n",
       "      <td>3.734</td>\n",
       "      <td>3.823</td>\n",
       "      <td>3.878</td>\n",
       "      <td>3.916</td>\n",
       "      <td>3.946</td>\n",
       "      <td>3.972</td>\n",
       "    </tr>\n",
       "    <tr>\n",
       "      <th>1988-04</th>\n",
       "      <td>3.965</td>\n",
       "      <td>2.800</td>\n",
       "      <td>4.200</td>\n",
       "      <td>3.250</td>\n",
       "      <td>NaN</td>\n",
       "      <td>3.467</td>\n",
       "      <td>3.594</td>\n",
       "      <td>3.684</td>\n",
       "      <td>3.757</td>\n",
       "      <td>3.819</td>\n",
       "      <td>3.874</td>\n",
       "      <td>3.923</td>\n",
       "    </tr>\n",
       "    <tr>\n",
       "      <th>1988-05</th>\n",
       "      <td>4.127</td>\n",
       "      <td>3.191</td>\n",
       "      <td>4.247</td>\n",
       "      <td>3.602</td>\n",
       "      <td>NaN</td>\n",
       "      <td>3.802</td>\n",
       "      <td>3.909</td>\n",
       "      <td>3.974</td>\n",
       "      <td>4.019</td>\n",
       "      <td>4.054</td>\n",
       "      <td>4.082</td>\n",
       "      <td>4.106</td>\n",
       "    </tr>\n",
       "  </tbody>\n",
       "</table>\n",
       "</div>"
      ],
      "text/plain": [
       "D0         10J     1J    20J     2J  30J     3J     4J     5J     6J     7J  \\\n",
       "Date                                                                          \n",
       "1988-01  4.092  2.887  4.326  3.218  NaN  3.393  3.554  3.695  3.810  3.904   \n",
       "1988-02  4.098  2.638  4.332  2.990  NaN  3.271  3.498  3.672  3.804  3.905   \n",
       "1988-03  3.998  2.641  4.255  3.263  NaN  3.573  3.734  3.823  3.878  3.916   \n",
       "1988-04  3.965  2.800  4.200  3.250  NaN  3.467  3.594  3.684  3.757  3.819   \n",
       "1988-05  4.127  3.191  4.247  3.602  NaN  3.802  3.909  3.974  4.019  4.054   \n",
       "\n",
       "D0          8J     9J  \n",
       "Date                   \n",
       "1988-01  3.980  4.041  \n",
       "1988-02  3.984  4.047  \n",
       "1988-03  3.946  3.972  \n",
       "1988-04  3.874  3.923  \n",
       "1988-05  4.082  4.106  "
      ]
     },
     "execution_count": 10,
     "metadata": {},
     "output_type": "execute_result"
    }
   ],
   "source": [
    "# df pivot\n",
    "df_raw.pivot('Date', 'D0', 'Value').head()"
   ]
  },
  {
   "cell_type": "markdown",
   "id": "1b5b22dc-008e-44e5-b392-c26beca8df58",
   "metadata": {},
   "source": [
    "### 2.1 Dtype issue"
   ]
  },
  {
   "cell_type": "code",
   "execution_count": 12,
   "id": "aaba87bb-ee62-4eef-a0d0-85374b1a4184",
   "metadata": {},
   "outputs": [
    {
     "data": {
      "text/plain": [
       "Date      object\n",
       "D0        object\n",
       "Value    float64\n",
       "dtype: object"
      ]
     },
     "execution_count": 12,
     "metadata": {},
     "output_type": "execute_result"
    }
   ],
   "source": [
    "# check dtypes\n",
    "df_raw.dtypes"
   ]
  },
  {
   "cell_type": "code",
   "execution_count": 15,
   "id": "6cc3de2a-b847-4692-95d8-62bc33fb3abd",
   "metadata": {},
   "outputs": [
    {
     "name": "stdout",
     "output_type": "stream",
     "text": [
      "Date     datetime64[ns]\n",
      "D0               object\n",
      "Value           float64\n",
      "dtype: object\n"
     ]
    },
    {
     "data": {
      "text/html": [
       "<div>\n",
       "<style scoped>\n",
       "    .dataframe tbody tr th:only-of-type {\n",
       "        vertical-align: middle;\n",
       "    }\n",
       "\n",
       "    .dataframe tbody tr th {\n",
       "        vertical-align: top;\n",
       "    }\n",
       "\n",
       "    .dataframe thead th {\n",
       "        text-align: right;\n",
       "    }\n",
       "</style>\n",
       "<table border=\"1\" class=\"dataframe\">\n",
       "  <thead>\n",
       "    <tr style=\"text-align: right;\">\n",
       "      <th></th>\n",
       "      <th>Date</th>\n",
       "      <th>D0</th>\n",
       "      <th>Value</th>\n",
       "    </tr>\n",
       "  </thead>\n",
       "  <tbody>\n",
       "    <tr>\n",
       "      <th>0</th>\n",
       "      <td>1988-01-01</td>\n",
       "      <td>1J</td>\n",
       "      <td>2.887</td>\n",
       "    </tr>\n",
       "    <tr>\n",
       "      <th>1</th>\n",
       "      <td>1988-01-01</td>\n",
       "      <td>2J</td>\n",
       "      <td>3.218</td>\n",
       "    </tr>\n",
       "    <tr>\n",
       "      <th>2</th>\n",
       "      <td>1988-01-01</td>\n",
       "      <td>3J</td>\n",
       "      <td>3.393</td>\n",
       "    </tr>\n",
       "    <tr>\n",
       "      <th>3</th>\n",
       "      <td>1988-01-01</td>\n",
       "      <td>4J</td>\n",
       "      <td>3.554</td>\n",
       "    </tr>\n",
       "    <tr>\n",
       "      <th>4</th>\n",
       "      <td>1988-01-01</td>\n",
       "      <td>5J</td>\n",
       "      <td>3.695</td>\n",
       "    </tr>\n",
       "  </tbody>\n",
       "</table>\n",
       "</div>"
      ],
      "text/plain": [
       "        Date  D0  Value\n",
       "0 1988-01-01  1J  2.887\n",
       "1 1988-01-01  2J  3.218\n",
       "2 1988-01-01  3J  3.393\n",
       "3 1988-01-01  4J  3.554\n",
       "4 1988-01-01  5J  3.695"
      ]
     },
     "execution_count": 15,
     "metadata": {},
     "output_type": "execute_result"
    }
   ],
   "source": [
    "# convert 'object' dytype for D0 (which is a date column) to date column dtype\n",
    "df = df_raw.copy()\n",
    "df['Date'] = pd.to_datetime(df['Date'])\n",
    "\n",
    "# print dtypes and df head\n",
    "print(df.dtypes)\n",
    "df.head()"
   ]
  },
  {
   "cell_type": "markdown",
   "id": "2896d7e0-1cef-415f-8807-55904251f0c0",
   "metadata": {},
   "source": [
    "## 3. Matplotlib styling"
   ]
  },
  {
   "cell_type": "code",
   "execution_count": 16,
   "id": "74591af2-921f-4d12-96ed-08b1e7ef81b3",
   "metadata": {},
   "outputs": [
    {
     "data": {
      "text/plain": [
       "['Solarize_Light2',\n",
       " '_classic_test_patch',\n",
       " '_mpl-gallery',\n",
       " '_mpl-gallery-nogrid',\n",
       " 'bmh',\n",
       " 'classic',\n",
       " 'dark_background',\n",
       " 'fast',\n",
       " 'fivethirtyeight',\n",
       " 'ggplot',\n",
       " 'grayscale',\n",
       " 'seaborn-v0_8',\n",
       " 'seaborn-v0_8-bright',\n",
       " 'seaborn-v0_8-colorblind',\n",
       " 'seaborn-v0_8-dark',\n",
       " 'seaborn-v0_8-dark-palette',\n",
       " 'seaborn-v0_8-darkgrid',\n",
       " 'seaborn-v0_8-deep',\n",
       " 'seaborn-v0_8-muted',\n",
       " 'seaborn-v0_8-notebook',\n",
       " 'seaborn-v0_8-paper',\n",
       " 'seaborn-v0_8-pastel',\n",
       " 'seaborn-v0_8-poster',\n",
       " 'seaborn-v0_8-talk',\n",
       " 'seaborn-v0_8-ticks',\n",
       " 'seaborn-v0_8-white',\n",
       " 'seaborn-v0_8-whitegrid',\n",
       " 'tableau-colorblind10']"
      ]
     },
     "execution_count": 16,
     "metadata": {},
     "output_type": "execute_result"
    }
   ],
   "source": [
    "plt.style.available"
   ]
  },
  {
   "cell_type": "code",
   "execution_count": 18,
   "id": "546c5409-16fc-46e8-bbc1-42f31c806a64",
   "metadata": {},
   "outputs": [
    {
     "data": {
      "image/png": "[encoded data removed]",
      "text/plain": [
       "<Figure size 640x480 with 1 Axes>"
      ]
     },
     "metadata": {},
     "output_type": "display_data"
    }
   ],
   "source": [
    "# standard plot raw df with correct datetime dtype\n",
    "df_raw[df_raw['D0'] == '1J'].plot(x='Date', y='Value', label='1Y yield');"
   ]
  },
  {
   "cell_type": "code",
   "execution_count": 25,
   "id": "5234b9c1-3b4e-4016-b033-0f13adb402ba",
   "metadata": {},
   "outputs": [
    {
     "data": {
      "image/png": "[encoded data removed]",
      "text/plain": [
       "<Figure size 640x480 with 1 Axes>"
      ]
     },
     "metadata": {},
     "output_type": "display_data"
    }
   ],
   "source": [
    "# ggplot plt styling\n",
    "with plt.style.context(('ggplot')):\n",
    "    df[df['D0'] == '1J'].plot(x='Date', y='Value', label='1Y yield');"
   ]
  },
  {
   "cell_type": "markdown",
   "id": "367dcaa2-f95e-4530-b1de-40381175502e",
   "metadata": {},
   "source": [
    "### 3.1 Set styling globally"
   ]
  },
  {
   "cell_type": "code",
   "execution_count": 24,
   "id": "a0daaa2a-de95-48a3-84d9-2ba9f9e1491a",
   "metadata": {},
   "outputs": [
    {
     "name": "stderr",
     "output_type": "stream",
     "text": [
      "/var/folders/19/7p1_1rpx29q852cb_f962cw40000gn/T/ipykernel_7041/2377868375.py:2: MatplotlibDeprecationWarning: The seaborn styles shipped by Matplotlib are deprecated since 3.6, as they no longer correspond to the styles shipped by seaborn. However, they will remain available as 'seaborn-v0_8-<style>'. Alternatively, directly use the seaborn API instead.\n",
      "  plt.style.use('seaborn-darkgrid')\n"
     ]
    }
   ],
   "source": [
    "# seaborn library darkgrid style\n",
    "plt.style.use('seaborn-darkgrid')"
   ]
  },
  {
   "cell_type": "code",
   "execution_count": 27,
   "id": "7490b5ca-abad-4816-9641-c8896694d10f",
   "metadata": {},
   "outputs": [
    {
     "data": {
      "image/png": "[encoded data removed]",
      "text/plain": [
       "<Figure size 640x480 with 1 Axes>"
      ]
     },
     "metadata": {},
     "output_type": "display_data"
    }
   ],
   "source": [
    "df[df['D0'] == '1J'].plot(x='Date', y='Value', label='1Y yield');"
   ]
  },
  {
   "cell_type": "markdown",
   "id": "f61b3199-4029-4a7c-bc13-2cb469e88897",
   "metadata": {},
   "source": [
    "## 4. Indexing"
   ]
  },
  {
   "cell_type": "markdown",
   "id": "ebd4f2fa-c59d-4da4-b48d-3dd502bfee60",
   "metadata": {},
   "source": [
    "Indexing helps when a semantically meaningful indexing is needed."
   ]
  },
  {
   "cell_type": "code",
   "execution_count": 33,
   "id": "a9d96aba-5ede-42d4-b312-74e9019d95c4",
   "metadata": {},
   "outputs": [
    {
     "data": {
      "text/html": [
       "<div>\n",
       "<style scoped>\n",
       "    .dataframe tbody tr th:only-of-type {\n",
       "        vertical-align: middle;\n",
       "    }\n",
       "\n",
       "    .dataframe tbody tr th {\n",
       "        vertical-align: top;\n",
       "    }\n",
       "\n",
       "    .dataframe thead th {\n",
       "        text-align: right;\n",
       "    }\n",
       "</style>\n",
       "<table border=\"1\" class=\"dataframe\">\n",
       "  <thead>\n",
       "    <tr style=\"text-align: right;\">\n",
       "      <th></th>\n",
       "      <th>Date</th>\n",
       "      <th>D0</th>\n",
       "      <th>Value</th>\n",
       "    </tr>\n",
       "  </thead>\n",
       "  <tbody>\n",
       "    <tr>\n",
       "      <th>1584</th>\n",
       "      <td>1999-01-01</td>\n",
       "      <td>1J</td>\n",
       "      <td>1.381</td>\n",
       "    </tr>\n",
       "    <tr>\n",
       "      <th>1596</th>\n",
       "      <td>1999-02-01</td>\n",
       "      <td>1J</td>\n",
       "      <td>1.293</td>\n",
       "    </tr>\n",
       "    <tr>\n",
       "      <th>1608</th>\n",
       "      <td>1999-03-01</td>\n",
       "      <td>1J</td>\n",
       "      <td>1.375</td>\n",
       "    </tr>\n",
       "    <tr>\n",
       "      <th>1620</th>\n",
       "      <td>1999-04-01</td>\n",
       "      <td>1J</td>\n",
       "      <td>1.171</td>\n",
       "    </tr>\n",
       "    <tr>\n",
       "      <th>1632</th>\n",
       "      <td>1999-05-01</td>\n",
       "      <td>1J</td>\n",
       "      <td>1.170</td>\n",
       "    </tr>\n",
       "    <tr>\n",
       "      <th>1644</th>\n",
       "      <td>1999-06-01</td>\n",
       "      <td>1J</td>\n",
       "      <td>1.588</td>\n",
       "    </tr>\n",
       "    <tr>\n",
       "      <th>1656</th>\n",
       "      <td>1999-07-01</td>\n",
       "      <td>1J</td>\n",
       "      <td>1.676</td>\n",
       "    </tr>\n",
       "    <tr>\n",
       "      <th>1668</th>\n",
       "      <td>1999-08-01</td>\n",
       "      <td>1J</td>\n",
       "      <td>1.720</td>\n",
       "    </tr>\n",
       "    <tr>\n",
       "      <th>1680</th>\n",
       "      <td>1999-09-01</td>\n",
       "      <td>1J</td>\n",
       "      <td>2.110</td>\n",
       "    </tr>\n",
       "    <tr>\n",
       "      <th>1692</th>\n",
       "      <td>1999-10-01</td>\n",
       "      <td>1J</td>\n",
       "      <td>2.536</td>\n",
       "    </tr>\n",
       "    <tr>\n",
       "      <th>1704</th>\n",
       "      <td>1999-11-01</td>\n",
       "      <td>1J</td>\n",
       "      <td>2.435</td>\n",
       "    </tr>\n",
       "    <tr>\n",
       "      <th>1716</th>\n",
       "      <td>1999-12-01</td>\n",
       "      <td>1J</td>\n",
       "      <td>2.170</td>\n",
       "    </tr>\n",
       "  </tbody>\n",
       "</table>\n",
       "</div>"
      ],
      "text/plain": [
       "           Date  D0  Value\n",
       "1584 1999-01-01  1J  1.381\n",
       "1596 1999-02-01  1J  1.293\n",
       "1608 1999-03-01  1J  1.375\n",
       "1620 1999-04-01  1J  1.171\n",
       "1632 1999-05-01  1J  1.170\n",
       "1644 1999-06-01  1J  1.588\n",
       "1656 1999-07-01  1J  1.676\n",
       "1668 1999-08-01  1J  1.720\n",
       "1680 1999-09-01  1J  2.110\n",
       "1692 1999-10-01  1J  2.536\n",
       "1704 1999-11-01  1J  2.435\n",
       "1716 1999-12-01  1J  2.170"
      ]
     },
     "execution_count": 33,
     "metadata": {},
     "output_type": "execute_result"
    }
   ],
   "source": [
    "# year 1999 for 1-year bonds\n",
    "df[(df['Date'].dt.year == 1999) & (df['D0'] == '1J')]"
   ]
  },
  {
   "cell_type": "code",
   "execution_count": 34,
   "id": "2dbef2c9-e6b5-4980-b94f-0da84d6c1098",
   "metadata": {},
   "outputs": [
    {
     "data": {
      "text/html": [
       "<div>\n",
       "<style scoped>\n",
       "    .dataframe tbody tr th:only-of-type {\n",
       "        vertical-align: middle;\n",
       "    }\n",
       "\n",
       "    .dataframe tbody tr th {\n",
       "        vertical-align: top;\n",
       "    }\n",
       "\n",
       "    .dataframe thead th {\n",
       "        text-align: right;\n",
       "    }\n",
       "</style>\n",
       "<table border=\"1\" class=\"dataframe\">\n",
       "  <thead>\n",
       "    <tr style=\"text-align: right;\">\n",
       "      <th></th>\n",
       "      <th></th>\n",
       "      <th>Value</th>\n",
       "    </tr>\n",
       "    <tr>\n",
       "      <th>Date</th>\n",
       "      <th>D0</th>\n",
       "      <th></th>\n",
       "    </tr>\n",
       "  </thead>\n",
       "  <tbody>\n",
       "    <tr>\n",
       "      <th rowspan=\"5\" valign=\"top\">1988-01-01</th>\n",
       "      <th>1J</th>\n",
       "      <td>2.887</td>\n",
       "    </tr>\n",
       "    <tr>\n",
       "      <th>2J</th>\n",
       "      <td>3.218</td>\n",
       "    </tr>\n",
       "    <tr>\n",
       "      <th>3J</th>\n",
       "      <td>3.393</td>\n",
       "    </tr>\n",
       "    <tr>\n",
       "      <th>4J</th>\n",
       "      <td>3.554</td>\n",
       "    </tr>\n",
       "    <tr>\n",
       "      <th>5J</th>\n",
       "      <td>3.695</td>\n",
       "    </tr>\n",
       "  </tbody>\n",
       "</table>\n",
       "</div>"
      ],
      "text/plain": [
       "               Value\n",
       "Date       D0       \n",
       "1988-01-01 1J  2.887\n",
       "           2J  3.218\n",
       "           3J  3.393\n",
       "           4J  3.554\n",
       "           5J  3.695"
      ]
     },
     "execution_count": 34,
     "metadata": {},
     "output_type": "execute_result"
    }
   ],
   "source": [
    "# better way to take advantage of unique indexes made of 'Date' and 'D0'\n",
    "df_indexed = df.set_index(['Date', 'D0'])\n",
    "df_indexed.head()"
   ]
  },
  {
   "cell_type": "code",
   "execution_count": 36,
   "id": "8c15ee6f-ea82-413e-8737-7c88ff132627",
   "metadata": {},
   "outputs": [
    {
     "data": {
      "text/html": [
       "<div>\n",
       "<style scoped>\n",
       "    .dataframe tbody tr th:only-of-type {\n",
       "        vertical-align: middle;\n",
       "    }\n",
       "\n",
       "    .dataframe tbody tr th {\n",
       "        vertical-align: top;\n",
       "    }\n",
       "\n",
       "    .dataframe thead th {\n",
       "        text-align: right;\n",
       "    }\n",
       "</style>\n",
       "<table border=\"1\" class=\"dataframe\">\n",
       "  <thead>\n",
       "    <tr style=\"text-align: right;\">\n",
       "      <th></th>\n",
       "      <th>Value</th>\n",
       "    </tr>\n",
       "    <tr>\n",
       "      <th>Date</th>\n",
       "      <th></th>\n",
       "    </tr>\n",
       "  </thead>\n",
       "  <tbody>\n",
       "    <tr>\n",
       "      <th>1999-01-01</th>\n",
       "      <td>1.381</td>\n",
       "    </tr>\n",
       "    <tr>\n",
       "      <th>1999-02-01</th>\n",
       "      <td>1.293</td>\n",
       "    </tr>\n",
       "    <tr>\n",
       "      <th>1999-03-01</th>\n",
       "      <td>1.375</td>\n",
       "    </tr>\n",
       "    <tr>\n",
       "      <th>1999-04-01</th>\n",
       "      <td>1.171</td>\n",
       "    </tr>\n",
       "    <tr>\n",
       "      <th>1999-05-01</th>\n",
       "      <td>1.170</td>\n",
       "    </tr>\n",
       "    <tr>\n",
       "      <th>1999-06-01</th>\n",
       "      <td>1.588</td>\n",
       "    </tr>\n",
       "    <tr>\n",
       "      <th>1999-07-01</th>\n",
       "      <td>1.676</td>\n",
       "    </tr>\n",
       "    <tr>\n",
       "      <th>1999-08-01</th>\n",
       "      <td>1.720</td>\n",
       "    </tr>\n",
       "    <tr>\n",
       "      <th>1999-09-01</th>\n",
       "      <td>2.110</td>\n",
       "    </tr>\n",
       "    <tr>\n",
       "      <th>1999-10-01</th>\n",
       "      <td>2.536</td>\n",
       "    </tr>\n",
       "    <tr>\n",
       "      <th>1999-11-01</th>\n",
       "      <td>2.435</td>\n",
       "    </tr>\n",
       "    <tr>\n",
       "      <th>1999-12-01</th>\n",
       "      <td>2.170</td>\n",
       "    </tr>\n",
       "  </tbody>\n",
       "</table>\n",
       "</div>"
      ],
      "text/plain": [
       "            Value\n",
       "Date             \n",
       "1999-01-01  1.381\n",
       "1999-02-01  1.293\n",
       "1999-03-01  1.375\n",
       "1999-04-01  1.171\n",
       "1999-05-01  1.170\n",
       "1999-06-01  1.588\n",
       "1999-07-01  1.676\n",
       "1999-08-01  1.720\n",
       "1999-09-01  2.110\n",
       "1999-10-01  2.536\n",
       "1999-11-01  2.435\n",
       "1999-12-01  2.170"
      ]
     },
     "execution_count": 36,
     "metadata": {},
     "output_type": "execute_result"
    }
   ],
   "source": [
    "# retrieve 1999 & 1J\n",
    "df_indexed.loc[('1999', '1J'), :]"
   ]
  },
  {
   "cell_type": "code",
   "execution_count": 41,
   "id": "dfb81357-0f09-4e3a-ab1e-6ff4c9abaa83",
   "metadata": {},
   "outputs": [
    {
     "data": {
      "image/png": "[encoded data removed]",
      "text/plain": [
       "<Figure size 640x480 with 1 Axes>"
      ]
     },
     "metadata": {},
     "output_type": "display_data"
    }
   ],
   "source": [
    "# every value for 1J in time, reset_index(1) to drop the second level from the index\n",
    "df_indexed.loc[(slice(None), '1J'), :].reset_index(1).plot(label='1Y yield');"
   ]
  },
  {
   "cell_type": "code",
   "execution_count": 47,
   "id": "b12646a6-f5ca-4497-905e-a8be58dea76c",
   "metadata": {},
   "outputs": [
    {
     "data": {
      "text/html": [
       "<div>\n",
       "<style scoped>\n",
       "    .dataframe tbody tr th:only-of-type {\n",
       "        vertical-align: middle;\n",
       "    }\n",
       "\n",
       "    .dataframe tbody tr th {\n",
       "        vertical-align: top;\n",
       "    }\n",
       "\n",
       "    .dataframe thead th {\n",
       "        text-align: right;\n",
       "    }\n",
       "</style>\n",
       "<table border=\"1\" class=\"dataframe\">\n",
       "  <thead>\n",
       "    <tr style=\"text-align: right;\">\n",
       "      <th></th>\n",
       "      <th></th>\n",
       "      <th>Value</th>\n",
       "    </tr>\n",
       "    <tr>\n",
       "      <th>Date</th>\n",
       "      <th>D0</th>\n",
       "      <th></th>\n",
       "    </tr>\n",
       "  </thead>\n",
       "  <tbody>\n",
       "    <tr>\n",
       "      <th rowspan=\"2\" valign=\"top\">2001-09-01</th>\n",
       "      <th>1J</th>\n",
       "      <td>2.261</td>\n",
       "    </tr>\n",
       "    <tr>\n",
       "      <th>2J</th>\n",
       "      <td>2.426</td>\n",
       "    </tr>\n",
       "    <tr>\n",
       "      <th rowspan=\"2\" valign=\"top\">2001-10-01</th>\n",
       "      <th>1J</th>\n",
       "      <td>1.856</td>\n",
       "    </tr>\n",
       "    <tr>\n",
       "      <th>2J</th>\n",
       "      <td>2.058</td>\n",
       "    </tr>\n",
       "    <tr>\n",
       "      <th rowspan=\"2\" valign=\"top\">2001-11-01</th>\n",
       "      <th>1J</th>\n",
       "      <td>2.147</td>\n",
       "    </tr>\n",
       "    <tr>\n",
       "      <th>2J</th>\n",
       "      <td>2.376</td>\n",
       "    </tr>\n",
       "    <tr>\n",
       "      <th rowspan=\"2\" valign=\"top\">2001-12-01</th>\n",
       "      <th>1J</th>\n",
       "      <td>2.107</td>\n",
       "    </tr>\n",
       "    <tr>\n",
       "      <th>2J</th>\n",
       "      <td>2.454</td>\n",
       "    </tr>\n",
       "  </tbody>\n",
       "</table>\n",
       "</div>"
      ],
      "text/plain": [
       "               Value\n",
       "Date       D0       \n",
       "2001-09-01 1J  2.261\n",
       "           2J  2.426\n",
       "2001-10-01 1J  1.856\n",
       "           2J  2.058\n",
       "2001-11-01 1J  2.147\n",
       "           2J  2.376\n",
       "2001-12-01 1J  2.107\n",
       "           2J  2.454"
      ]
     },
     "execution_count": 47,
     "metadata": {},
     "output_type": "execute_result"
    }
   ],
   "source": [
    "# 1Y 2Y bonds between september and december 2001\n",
    "df_indexed.loc[(slice('2001-09', '2001-12'), ['1J', '2J']), :]"
   ]
  },
  {
   "cell_type": "markdown",
   "id": "85d7dc45-0651-475f-b9a3-9d645f57cb15",
   "metadata": {},
   "source": [
    "## 5. Plot vs subplot"
   ]
  },
  {
   "cell_type": "code",
   "execution_count": 66,
   "id": "ba29aad7-1cb4-4b22-a21d-e5e63aeb4ade",
   "metadata": {},
   "outputs": [
    {
     "data": {
      "text/plain": [
       "DatetimeIndex(['1988-01-01', '1988-01-01', '1988-01-01', '1988-01-01',\n",
       "               '1988-01-01', '1988-01-01', '1988-01-01', '1988-01-01',\n",
       "               '1988-01-01', '1988-01-01',\n",
       "               ...\n",
       "               '2017-04-01', '2017-04-01', '2017-04-01', '2017-04-01',\n",
       "               '2017-04-01', '2017-04-01', '2017-04-01', '2017-04-01',\n",
       "               '2017-04-01', '2017-04-01'],\n",
       "              dtype='datetime64[ns]', name='Date', length=4224, freq=None)"
      ]
     },
     "execution_count": 66,
     "metadata": {},
     "output_type": "execute_result"
    }
   ],
   "source": [
    "# check index level 0\n",
    "df_indexed.index.get_level_values(0)"
   ]
  },
  {
   "cell_type": "code",
   "execution_count": 67,
   "id": "3048bb95-fb19-455b-bb03-04aacd3d3bea",
   "metadata": {},
   "outputs": [
    {
     "data": {
      "text/plain": [
       "Index(['1J', '2J', '3J', '4J', '5J', '6J', '7J', '8J', '9J', '10J',\n",
       "       ...\n",
       "       '3J', '4J', '5J', '6J', '7J', '8J', '9J', '10J', '20J', '30J'],\n",
       "      dtype='object', name='D0', length=4224)"
      ]
     },
     "execution_count": 67,
     "metadata": {},
     "output_type": "execute_result"
    }
   ],
   "source": [
    "# check index level 1\n",
    "df_indexed.index.get_level_values(1)"
   ]
  },
  {
   "cell_type": "code",
   "execution_count": 69,
   "id": "62144586-f98d-440e-925e-eb7760f220d5",
   "metadata": {},
   "outputs": [
    {
     "data": {
      "text/html": [
       "<div>\n",
       "<style scoped>\n",
       "    .dataframe tbody tr th:only-of-type {\n",
       "        vertical-align: middle;\n",
       "    }\n",
       "\n",
       "    .dataframe tbody tr th {\n",
       "        vertical-align: top;\n",
       "    }\n",
       "\n",
       "    .dataframe thead th {\n",
       "        text-align: right;\n",
       "    }\n",
       "</style>\n",
       "<table border=\"1\" class=\"dataframe\">\n",
       "  <thead>\n",
       "    <tr style=\"text-align: right;\">\n",
       "      <th>D0</th>\n",
       "      <th>10J</th>\n",
       "      <th>1J</th>\n",
       "      <th>20J</th>\n",
       "      <th>2J</th>\n",
       "      <th>30J</th>\n",
       "      <th>3J</th>\n",
       "      <th>4J</th>\n",
       "      <th>5J</th>\n",
       "      <th>6J</th>\n",
       "      <th>7J</th>\n",
       "      <th>8J</th>\n",
       "      <th>9J</th>\n",
       "    </tr>\n",
       "    <tr>\n",
       "      <th>Date</th>\n",
       "      <th></th>\n",
       "      <th></th>\n",
       "      <th></th>\n",
       "      <th></th>\n",
       "      <th></th>\n",
       "      <th></th>\n",
       "      <th></th>\n",
       "      <th></th>\n",
       "      <th></th>\n",
       "      <th></th>\n",
       "      <th></th>\n",
       "      <th></th>\n",
       "    </tr>\n",
       "  </thead>\n",
       "  <tbody>\n",
       "    <tr>\n",
       "      <th>1988-01-01</th>\n",
       "      <td>4.092</td>\n",
       "      <td>2.887</td>\n",
       "      <td>4.326</td>\n",
       "      <td>3.218</td>\n",
       "      <td>NaN</td>\n",
       "      <td>3.393</td>\n",
       "      <td>3.554</td>\n",
       "      <td>3.695</td>\n",
       "      <td>3.810</td>\n",
       "      <td>3.904</td>\n",
       "      <td>3.980</td>\n",
       "      <td>4.041</td>\n",
       "    </tr>\n",
       "    <tr>\n",
       "      <th>1988-02-01</th>\n",
       "      <td>4.098</td>\n",
       "      <td>2.638</td>\n",
       "      <td>4.332</td>\n",
       "      <td>2.990</td>\n",
       "      <td>NaN</td>\n",
       "      <td>3.271</td>\n",
       "      <td>3.498</td>\n",
       "      <td>3.672</td>\n",
       "      <td>3.804</td>\n",
       "      <td>3.905</td>\n",
       "      <td>3.984</td>\n",
       "      <td>4.047</td>\n",
       "    </tr>\n",
       "    <tr>\n",
       "      <th>1988-03-01</th>\n",
       "      <td>3.998</td>\n",
       "      <td>2.641</td>\n",
       "      <td>4.255</td>\n",
       "      <td>3.263</td>\n",
       "      <td>NaN</td>\n",
       "      <td>3.573</td>\n",
       "      <td>3.734</td>\n",
       "      <td>3.823</td>\n",
       "      <td>3.878</td>\n",
       "      <td>3.916</td>\n",
       "      <td>3.946</td>\n",
       "      <td>3.972</td>\n",
       "    </tr>\n",
       "    <tr>\n",
       "      <th>1988-04-01</th>\n",
       "      <td>3.965</td>\n",
       "      <td>2.800</td>\n",
       "      <td>4.200</td>\n",
       "      <td>3.250</td>\n",
       "      <td>NaN</td>\n",
       "      <td>3.467</td>\n",
       "      <td>3.594</td>\n",
       "      <td>3.684</td>\n",
       "      <td>3.757</td>\n",
       "      <td>3.819</td>\n",
       "      <td>3.874</td>\n",
       "      <td>3.923</td>\n",
       "    </tr>\n",
       "    <tr>\n",
       "      <th>1988-05-01</th>\n",
       "      <td>4.127</td>\n",
       "      <td>3.191</td>\n",
       "      <td>4.247</td>\n",
       "      <td>3.602</td>\n",
       "      <td>NaN</td>\n",
       "      <td>3.802</td>\n",
       "      <td>3.909</td>\n",
       "      <td>3.974</td>\n",
       "      <td>4.019</td>\n",
       "      <td>4.054</td>\n",
       "      <td>4.082</td>\n",
       "      <td>4.106</td>\n",
       "    </tr>\n",
       "  </tbody>\n",
       "</table>\n",
       "</div>"
      ],
      "text/plain": [
       "D0            10J     1J    20J     2J  30J     3J     4J     5J     6J  \\\n",
       "Date                                                                      \n",
       "1988-01-01  4.092  2.887  4.326  3.218  NaN  3.393  3.554  3.695  3.810   \n",
       "1988-02-01  4.098  2.638  4.332  2.990  NaN  3.271  3.498  3.672  3.804   \n",
       "1988-03-01  3.998  2.641  4.255  3.263  NaN  3.573  3.734  3.823  3.878   \n",
       "1988-04-01  3.965  2.800  4.200  3.250  NaN  3.467  3.594  3.684  3.757   \n",
       "1988-05-01  4.127  3.191  4.247  3.602  NaN  3.802  3.909  3.974  4.019   \n",
       "\n",
       "D0             7J     8J     9J  \n",
       "Date                             \n",
       "1988-01-01  3.904  3.980  4.041  \n",
       "1988-02-01  3.905  3.984  4.047  \n",
       "1988-03-01  3.916  3.946  3.972  \n",
       "1988-04-01  3.819  3.874  3.923  \n",
       "1988-05-01  4.054  4.082  4.106  "
      ]
     },
     "execution_count": 69,
     "metadata": {},
     "output_type": "execute_result"
    }
   ],
   "source": [
    "# unstack df level 1 index\n",
    "df_wide = df_indexed.unstack(1)['Value']\n",
    "df_wide.head()"
   ]
  },
  {
   "cell_type": "markdown",
   "id": "5bd21dd4-174c-4dd1-a142-62acf3dcf69e",
   "metadata": {},
   "source": [
    "### 5.1 Matplotlib vs pandas vs mix"
   ]
  },
  {
   "cell_type": "code",
   "execution_count": null,
   "id": "aeecb019-ba0d-46c6-bfff-f5a75536f3df",
   "metadata": {},
   "outputs": [],
   "source": []
  }
 ],
 "metadata": {
  "kernelspec": {
   "display_name": "projects",
   "language": "python",
   "name": "projects"
  },
  "language_info": {
   "codemirror_mode": {
    "name": "ipython",
    "version": 3
   },
   "file_extension": ".py",
   "mimetype": "text/x-python",
   "name": "python",
   "nbconvert_exporter": "python",
   "pygments_lexer": "ipython3",
   "version": "3.10.9"
  }
 },
 "nbformat": 4,
 "nbformat_minor": 5
}

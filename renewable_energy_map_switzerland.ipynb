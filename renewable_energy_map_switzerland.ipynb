{
 "cells": [
  {
   "cell_type": "markdown",
   "id": "e257561f-4943-45b3-9455-514ee552be42",
   "metadata": {},
   "source": [
    "# Mapping renewable energy sources in Switzerland"
   ]
  },
  {
   "cell_type": "code",
   "execution_count": 1,
   "id": "43b176c0-239b-4d43-a225-0e1cbd46edd1",
   "metadata": {},
   "outputs": [],
   "source": [
    "# THIS ONE FOR RENEWABLE ENERGY\n",
    "#https://data.open-power-system-data.org/renewable_power_plants/"
   ]
  },
  {
   "cell_type": "code",
   "execution_count": null,
   "id": "5f5bc71c-a887-4813-b8d0-23995d01443c",
   "metadata": {},
   "outputs": [],
   "source": []
  }
 ],
 "metadata": {
  "kernelspec": {
   "display_name": "projects",
   "language": "python",
   "name": "projects"
  },
  "language_info": {
   "codemirror_mode": {
    "name": "ipython",
    "version": 3
   },
   "file_extension": ".py",
   "mimetype": "text/x-python",
   "name": "python",
   "nbconvert_exporter": "python",
   "pygments_lexer": "ipython3",
   "version": "3.10.9"
  }
 },
 "nbformat": 4,
 "nbformat_minor": 5
}

{
 "cells": [
  {
   "cell_type": "code",
   "execution_count": 2,
   "id": "34914dbb-35b7-4328-bbdb-e70111984c0e",
   "metadata": {},
   "outputs": [],
   "source": [
    "# Antibiotic efficacy on bacteria visualization"
   ]
  }
 ],
 "metadata": {
  "kernelspec": {
   "display_name": "projects",
   "language": "python",
   "name": "projects"
  },
  "language_info": {
   "codemirror_mode": {
    "name": "ipython",
    "version": 3
   },
   "file_extension": ".py",
   "mimetype": "text/x-python",
   "name": "python",
   "nbconvert_exporter": "python",
   "pygments_lexer": "ipython3",
   "version": "3.10.9"
  }
 },
 "nbformat": 4,
 "nbformat_minor": 5
}

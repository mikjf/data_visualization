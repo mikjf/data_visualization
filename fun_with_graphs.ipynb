{
 "cells": [
  {
   "cell_type": "markdown",
   "id": "22060467-c11e-4b96-8459-0aff589c3b0e",
   "metadata": {},
   "source": [
    "# Fun with graphs"
   ]
  },
  {
   "cell_type": "markdown",
   "id": "572635a1-01c1-4586-a414-8aea3ecc6385",
   "metadata": {},
   "source": [
    "## 1. Import packages"
   ]
  },
  {
   "cell_type": "code",
   "execution_count": 1,
   "id": "ed1a607d-6e3b-45e0-ba52-a76dac27d970",
   "metadata": {},
   "outputs": [
    {
     "name": "stdout",
     "output_type": "stream",
     "text": [
      "Matplotlib Version : 3.7.1\n",
      "Seaborn Version : 0.11.2\n"
     ]
    }
   ],
   "source": [
    "# pandas\n",
    "import pandas as pd\n",
    "\n",
    "# numpy\n",
    "import numpy as np\n",
    "\n",
    "# matplotlib\n",
    "import matplotlib as mpl\n",
    "import matplotlib.pyplot as plt\n",
    "import matplotlib.gridspec as gridspec # Alignments \n",
    "import matplotlib.path as mpath\n",
    "import matplotlib.lines as mlines\n",
    "import matplotlib.patches as mpatches\n",
    "from matplotlib.collections import PatchCollection\n",
    "from mpl_toolkits.mplot3d import axes3d\n",
    "from matplotlib import style\n",
    "print(f\"Matplotlib Version : {mpl.__version__}\")\n",
    "%matplotlib inline\n",
    "\n",
    "# seaborn\n",
    "import seaborn as sns # theme & dataset\n",
    "print(f\"Seaborn Version : {sns.__version__}\")"
   ]
  },
  {
   "cell_type": "code",
   "execution_count": 2,
   "id": "de9bbe2b-5a4a-4fcc-8a48-76b12fd35ac4",
   "metadata": {},
   "outputs": [],
   "source": [
    "# %matplotlib (to display figures in new windows)\n",
    "# %matplotlib inline (to display static images inline)\n",
    "# %matplotlib notebook (to display zoomable images inline)"
   ]
  },
  {
   "cell_type": "markdown",
   "id": "b9bf65ba-e508-4478-bc80-4da33dc42a7c",
   "metadata": {},
   "source": [
    "## 2. Import and load data"
   ]
  },
  {
   "cell_type": "code",
   "execution_count": 3,
   "id": "a83d4c16-dd27-4d1a-be5f-62a72c15bf78",
   "metadata": {},
   "outputs": [
    {
     "data": {
      "text/html": [
       "<div>\n",
       "<style scoped>\n",
       "    .dataframe tbody tr th:only-of-type {\n",
       "        vertical-align: middle;\n",
       "    }\n",
       "\n",
       "    .dataframe tbody tr th {\n",
       "        vertical-align: top;\n",
       "    }\n",
       "\n",
       "    .dataframe thead th {\n",
       "        text-align: right;\n",
       "    }\n",
       "</style>\n",
       "<table border=\"1\" class=\"dataframe\">\n",
       "  <thead>\n",
       "    <tr style=\"text-align: right;\">\n",
       "      <th></th>\n",
       "      <th>species</th>\n",
       "      <th>island</th>\n",
       "      <th>culmen_length_mm</th>\n",
       "      <th>culmen_depth_mm</th>\n",
       "      <th>flipper_length_mm</th>\n",
       "      <th>body_mass_g</th>\n",
       "      <th>sex</th>\n",
       "    </tr>\n",
       "  </thead>\n",
       "  <tbody>\n",
       "    <tr>\n",
       "      <th>0</th>\n",
       "      <td>Adelie</td>\n",
       "      <td>Torgersen</td>\n",
       "      <td>39.1</td>\n",
       "      <td>18.7</td>\n",
       "      <td>181.0</td>\n",
       "      <td>3750.0</td>\n",
       "      <td>MALE</td>\n",
       "    </tr>\n",
       "    <tr>\n",
       "      <th>1</th>\n",
       "      <td>Adelie</td>\n",
       "      <td>Torgersen</td>\n",
       "      <td>39.5</td>\n",
       "      <td>17.4</td>\n",
       "      <td>186.0</td>\n",
       "      <td>3800.0</td>\n",
       "      <td>FEMALE</td>\n",
       "    </tr>\n",
       "    <tr>\n",
       "      <th>2</th>\n",
       "      <td>Adelie</td>\n",
       "      <td>Torgersen</td>\n",
       "      <td>40.3</td>\n",
       "      <td>18.0</td>\n",
       "      <td>195.0</td>\n",
       "      <td>3250.0</td>\n",
       "      <td>FEMALE</td>\n",
       "    </tr>\n",
       "    <tr>\n",
       "      <th>4</th>\n",
       "      <td>Adelie</td>\n",
       "      <td>Torgersen</td>\n",
       "      <td>36.7</td>\n",
       "      <td>19.3</td>\n",
       "      <td>193.0</td>\n",
       "      <td>3450.0</td>\n",
       "      <td>FEMALE</td>\n",
       "    </tr>\n",
       "    <tr>\n",
       "      <th>5</th>\n",
       "      <td>Adelie</td>\n",
       "      <td>Torgersen</td>\n",
       "      <td>39.3</td>\n",
       "      <td>20.6</td>\n",
       "      <td>190.0</td>\n",
       "      <td>3650.0</td>\n",
       "      <td>MALE</td>\n",
       "    </tr>\n",
       "  </tbody>\n",
       "</table>\n",
       "</div>"
      ],
      "text/plain": [
       "  species     island  culmen_length_mm  culmen_depth_mm  flipper_length_mm  \\\n",
       "0  Adelie  Torgersen              39.1             18.7              181.0   \n",
       "1  Adelie  Torgersen              39.5             17.4              186.0   \n",
       "2  Adelie  Torgersen              40.3             18.0              195.0   \n",
       "4  Adelie  Torgersen              36.7             19.3              193.0   \n",
       "5  Adelie  Torgersen              39.3             20.6              190.0   \n",
       "\n",
       "   body_mass_g     sex  \n",
       "0       3750.0    MALE  \n",
       "1       3800.0  FEMALE  \n",
       "2       3250.0  FEMALE  \n",
       "4       3450.0  FEMALE  \n",
       "5       3650.0    MALE  "
      ]
     },
     "execution_count": 3,
     "metadata": {},
     "output_type": "execute_result"
    }
   ],
   "source": [
    "# load dataset\n",
    "penguins_size = pd.read_csv('data/penguins_size.csv')\n",
    "\n",
    "# drop null values\n",
    "penguins_size = penguins_size.dropna()\n",
    "\n",
    "# drop  \".\" in 'sex' column\n",
    "penguins_size = penguins_size[penguins_size[\"sex\"] != \".\"]\n",
    "\n",
    "# display dataset\n",
    "penguins_size.head()"
   ]
  },
  {
   "cell_type": "code",
   "execution_count": 4,
   "id": "9acdf1a1-63ee-48df-8608-139988e0f4e3",
   "metadata": {},
   "outputs": [
    {
     "data": {
      "text/plain": [
       "array(['MALE', 'FEMALE'], dtype=object)"
      ]
     },
     "execution_count": 4,
     "metadata": {},
     "output_type": "execute_result"
    }
   ],
   "source": [
    "penguins_size['sex'].unique()"
   ]
  },
  {
   "cell_type": "markdown",
   "id": "564ea803-25e6-4bda-bc95-0da96225bb69",
   "metadata": {},
   "source": [
    "## 3. Set resolution"
   ]
  },
  {
   "cell_type": "code",
   "execution_count": 5,
   "id": "10100e03-5bcf-46b0-8c9b-48d7fa68445b",
   "metadata": {},
   "outputs": [],
   "source": [
    "# dpi -> dots per inch\n",
    "plt.rcParams['figure.dpi'] = 100"
   ]
  },
  {
   "cell_type": "markdown",
   "id": "9cd926bc-d87d-48e0-ae14-ef3ec0feb426",
   "metadata": {},
   "source": [
    "## 4. Anatomy of a figure"
   ]
  },
  {
   "cell_type": "code",
   "execution_count": 6,
   "id": "84a8c82e-16ce-4656-af98-c91baa954631",
   "metadata": {},
   "outputs": [
    {
     "data": {
      "text/html": [
       "<img src=\"https://matplotlib.org/stable/_images/sphx_glr_anatomy_001.png\" width=\"600\" height=\"600\"/>"
      ],
      "text/plain": [
       "<IPython.core.display.Image object>"
      ]
     },
     "execution_count": 6,
     "metadata": {},
     "output_type": "execute_result"
    }
   ],
   "source": [
    "# library to display external images from url\n",
    "from IPython.display import Image\n",
    "\n",
    "# image source: https://matplotlib.org/stable/gallery/showcase/anatomy.html\n",
    "Image(url='https://matplotlib.org/stable/_images/sphx_glr_anatomy_001.png', width=600, height=600)"
   ]
  },
  {
   "cell_type": "markdown",
   "id": "249881f2-69f7-4216-81f5-e14365554f84",
   "metadata": {},
   "source": [
    "## 5. Plots and subplots"
   ]
  },
  {
   "cell_type": "code",
   "execution_count": null,
   "id": "4b2cc646-5e09-46db-8c10-9dffc1ad657a",
   "metadata": {},
   "outputs": [],
   "source": [
    "#WIP"
   ]
  }
 ],
 "metadata": {
  "kernelspec": {
   "display_name": "projects",
   "language": "python",
   "name": "projects"
  },
  "language_info": {
   "codemirror_mode": {
    "name": "ipython",
    "version": 3
   },
   "file_extension": ".py",
   "mimetype": "text/x-python",
   "name": "python",
   "nbconvert_exporter": "python",
   "pygments_lexer": "ipython3",
   "version": "3.10.9"
  }
 },
 "nbformat": 4,
 "nbformat_minor": 5
}

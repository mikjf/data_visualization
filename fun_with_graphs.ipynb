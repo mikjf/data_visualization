{
 "cells": [
  {
   "cell_type": "markdown",
   "id": "22060467-c11e-4b96-8459-0aff589c3b0e",
   "metadata": {},
   "source": [
    "# Fun with graphs"
   ]
  },
  {
   "cell_type": "code",
   "execution_count": null,
   "id": "ed1a607d-6e3b-45e0-ba52-a76dac27d970",
   "metadata": {},
   "outputs": [],
   "source": []
  }
 ],
 "metadata": {
  "kernelspec": {
   "display_name": "projects",
   "language": "python",
   "name": "projects"
  },
  "language_info": {
   "codemirror_mode": {
    "name": "ipython",
    "version": 3
   },
   "file_extension": ".py",
   "mimetype": "text/x-python",
   "name": "python",
   "nbconvert_exporter": "python",
   "pygments_lexer": "ipython3",
   "version": "3.10.9"
  }
 },
 "nbformat": 4,
 "nbformat_minor": 5
}

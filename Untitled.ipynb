{
 "cells": [
  {
   "cell_type": "code",
   "execution_count": 1,
   "id": "a59d4682-04e0-40b7-be59-a00141750d82",
   "metadata": {},
   "outputs": [],
   "source": [
    "# initial setup"
   ]
  },
  {
   "cell_type": "code",
   "execution_count": 1,
   "id": "565ce4e8-8fcb-48e4-9a37-9a2d5885a401",
   "metadata": {},
   "outputs": [],
   "source": [
    "# retest"
   ]
  },
  {
   "cell_type": "code",
   "execution_count": 2,
   "id": "45cdf4e1-f53c-4efc-92e1-c4b709457b39",
   "metadata": {},
   "outputs": [
    {
     "data": {
      "text/plain": [
       "True"
      ]
     },
     "execution_count": 2,
     "metadata": {},
     "output_type": "execute_result"
    }
   ],
   "source": [
    "2 > 0"
   ]
  },
  {
   "cell_type": "code",
   "execution_count": null,
   "id": "f5f33242-8729-412b-9831-470d9b66f5d7",
   "metadata": {},
   "outputs": [],
   "source": []
  }
 ],
 "metadata": {
  "kernelspec": {
   "display_name": "projectsnew",
   "language": "python",
   "name": "projectsnew"
  },
  "language_info": {
   "codemirror_mode": {
    "name": "ipython",
    "version": 3
   },
   "file_extension": ".py",
   "mimetype": "text/x-python",
   "name": "python",
   "nbconvert_exporter": "python",
   "pygments_lexer": "ipython3",
   "version": "3.10.9"
  }
 },
 "nbformat": 4,
 "nbformat_minor": 5
}
